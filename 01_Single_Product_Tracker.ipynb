{
  "nbformat": 4,
  "nbformat_minor": 0,
  "metadata": {
    "colab": {
      "name": "01 - Single Product Tracker.ipynb",
      "provenance": [],
      "collapsed_sections": []
    },
    "kernelspec": {
      "name": "python3",
      "display_name": "Python 3"
    }
  },
  "cells": [
    {
      "cell_type": "code",
      "metadata": {
        "id": "BceGcw7MMJME"
      },
      "source": [
        "!pip install selenium\n",
        "!apt install chromium-chromedriver\n",
        "!pip install requests-html"
      ],
      "execution_count": null,
      "outputs": []
    },
    {
      "cell_type": "code",
      "metadata": {
        "id": "JKeRjN9MLsbo"
      },
      "source": [
        "import requests\n",
        "from requests_html import HTML\n",
        "from selenium import webdriver\n",
        "from selenium.webdriver.chrome.options import Options"
      ],
      "execution_count": null,
      "outputs": []
    },
    {
      "cell_type": "code",
      "metadata": {
        "id": "SS2MwexqMIJm"
      },
      "source": [
        "options = webdriver.ChromeOptions()\n",
        "options.add_argument('-headless')\n",
        "options.add_argument('-no-sandbox')\n",
        "options.add_argument('-disable-dev-shm-usage')\n",
        "\n",
        "driver = webdriver.Chrome('chromedriver', options=options)"
      ],
      "execution_count": null,
      "outputs": []
    },
    {
      "cell_type": "code",
      "metadata": {
        "id": "vdGEOpYaOSAy"
      },
      "source": [
        "url = \"https://www.amazon.com/Beats-Studio3-Wireless-Over-Ear-Headphones/dp/B07PX8TXTX/ref=sr_1_6?dchild=1&keywords=beats&qid=1610214147&s=electronics&sr=1-6\"\n",
        "title_lookup = \"#productTitle\"\n",
        "price_lookup = \"#priceblock_ourprice\""
      ],
      "execution_count": null,
      "outputs": []
    },
    {
      "cell_type": "code",
      "metadata": {
        "id": "MSy4I_WiPnxb"
      },
      "source": [
        "driver.get(url)\n",
        "body_el = driver.find_element_by_css_selector(\"body\")\n",
        "html_str = body_el.get_attribute(\"innerHTML\")\n",
        "print(html_str)"
      ],
      "execution_count": null,
      "outputs": []
    },
    {
      "cell_type": "code",
      "metadata": {
        "id": "A90kGHKTQAwV"
      },
      "source": [
        "html_obj = HTML(html=html_str)"
      ],
      "execution_count": null,
      "outputs": []
    },
    {
      "cell_type": "code",
      "metadata": {
        "id": "mfDBWZRAQCly"
      },
      "source": [
        "product_title = html_obj.find(title_lookup, first=True).text"
      ],
      "execution_count": null,
      "outputs": []
    },
    {
      "cell_type": "code",
      "metadata": {
        "id": "Zt5Os7IqQFLy"
      },
      "source": [
        "product_price = html_obj.find(price_lookup, first=True).text"
      ],
      "execution_count": null,
      "outputs": []
    },
    {
      "cell_type": "code",
      "metadata": {
        "colab": {
          "base_uri": "https://localhost:8080/"
        },
        "id": "Jw0ZMVrrQHYo",
        "outputId": "ce70ce9e-0cae-47fa-f563-69f034fe0418"
      },
      "source": [
        "print(product_title, product_price)"
      ],
      "execution_count": null,
      "outputs": [
        {
          "output_type": "stream",
          "text": [
            "Beats Studio3 Wireless Over-Ear Headphones – The Beats Skyline Collection - Midnight Black (Renewed) $194.99\n"
          ],
          "name": "stdout"
        }
      ]
    }
  ]
}