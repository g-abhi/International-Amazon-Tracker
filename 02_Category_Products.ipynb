{
  "nbformat": 4,
  "nbformat_minor": 0,
  "metadata": {
    "colab": {
      "name": "02 - Category Products.ipynb",
      "provenance": [],
      "collapsed_sections": []
    },
    "kernelspec": {
      "name": "python3",
      "display_name": "Python 3"
    }
  },
  "cells": [
    {
      "cell_type": "code",
      "metadata": {
        "id": "BceGcw7MMJME"
      },
      "source": [
        "!pip install selenium\n",
        "!apt install chromium-chromedriver\n",
        "!pip install requests-html"
      ],
      "execution_count": null,
      "outputs": []
    },
    {
      "cell_type": "code",
      "metadata": {
        "id": "JKeRjN9MLsbo"
      },
      "source": [
        "import requests\n",
        "from requests_html import HTML\n",
        "from selenium import webdriver\n",
        "from selenium.webdriver.chrome.options import Options\n",
        "import time"
      ],
      "execution_count": null,
      "outputs": []
    },
    {
      "cell_type": "code",
      "metadata": {
        "id": "SS2MwexqMIJm"
      },
      "source": [
        "options = webdriver.ChromeOptions()\n",
        "options.add_argument('-headless')\n",
        "options.add_argument('-no-sandbox')\n",
        "options.add_argument('-disable-dev-shm-usage')\n",
        "\n",
        "driver = webdriver.Chrome('chromedriver', options=options)"
      ],
      "execution_count": null,
      "outputs": []
    },
    {
      "cell_type": "code",
      "metadata": {
        "id": "z7yuZGGkQqx4"
      },
      "source": [
        "categories = [\n",
        "    \"https://www.amazon.com/Best-Sellers-Toys-Games/zgbs/toys-and-games/\",\n",
        "    \"https://www.amazon.com/Best-Sellers-Electronics/zgbs/electronics/\",\n",
        "    \"https://www.amazon.com/best-sellers-video-games/zgbs/videogames/\",\n",
        "    \"https://www.amazon.com/best-sellers-books/zgbs/books/\"\n",
        "]"
      ],
      "execution_count": null,
      "outputs": []
    },
    {
      "cell_type": "code",
      "metadata": {
        "colab": {
          "base_uri": "https://localhost:8080/"
        },
        "id": "tymp8dZJV8Di",
        "outputId": "b1e80c08-e65c-42af-c0d8-ca4346a4d8f3"
      },
      "source": [
        "categories"
      ],
      "execution_count": null,
      "outputs": [
        {
          "output_type": "execute_result",
          "data": {
            "text/plain": [
              "['https://www.amazon.com/Best-Sellers-Toys-Games/zgbs/toys-and-games/',\n",
              " 'https://www.amazon.com/Best-Sellers-Electronics/zgbs/electronics/',\n",
              " 'https://www.amazon.com/best-sellers-video-games/zgbs/videogames/',\n",
              " 'https://www.amazon.com/best-sellers-books/zgbs/books/']"
            ]
          },
          "metadata": {
            "tags": []
          },
          "execution_count": 5
        }
      ]
    },
    {
      "cell_type": "code",
      "metadata": {
        "colab": {
          "base_uri": "https://localhost:8080/"
        },
        "id": "6-ztNdw9RnaX",
        "outputId": "d1765197-15b5-48b0-ac4c-29c68e42ccb1"
      },
      "source": [
        "first_url = categories[0]\n",
        "print(first_url)"
      ],
      "execution_count": null,
      "outputs": [
        {
          "output_type": "stream",
          "text": [
            "https://www.amazon.com/Best-Sellers-Toys-Games/zgbs/toys-and-games/\n"
          ],
          "name": "stdout"
        }
      ]
    },
    {
      "cell_type": "code",
      "metadata": {
        "id": "9BaI74IpRwJv"
      },
      "source": [
        "driver.get(first_url)"
      ],
      "execution_count": null,
      "outputs": []
    },
    {
      "cell_type": "code",
      "metadata": {
        "id": "TkWQnxlPRx6b"
      },
      "source": [
        "body_el = driver.find_element_by_css_selector(\"body\")\n",
        "html_str = body_el.get_attribute(\"innerHTML\")"
      ],
      "execution_count": null,
      "outputs": []
    },
    {
      "cell_type": "code",
      "metadata": {
        "id": "qru-Fu01R1XY"
      },
      "source": [
        "html_obj = HTML(html=html_str)"
      ],
      "execution_count": null,
      "outputs": []
    },
    {
      "cell_type": "code",
      "metadata": {
        "id": "x908-q9xR3Ft"
      },
      "source": [
        "# https://www.amazon.com/LEGO-Classic-Medium-Creative-Brick/dp/B00NHQFA1I/\n",
        "# https://www.amazon.com/Crayola-Washable-Watercolors-8-ea/dp/B000HHKAE2/\n",
        "\n",
        "# <base-url>/<slug>/dp/<product_id>/\n",
        "\n",
        "new_links = [x for x in html_obj.links if x.startswith(\"/\")]\n",
        "new_links = [x for x in new_links if \"product-reviews/\" not in x]\n",
        "new_links = [x for x in new_links if \"/dp/\" in x]\n",
        "new_links = [x.split(\"ref\", 1)[0] for x in new_links]"
      ],
      "execution_count": null,
      "outputs": []
    },
    {
      "cell_type": "code",
      "metadata": {
        "id": "S2AY40UmR69F"
      },
      "source": [
        "page_links = [f\"https://www.amazon.com{x}\" for x in new_links]"
      ],
      "execution_count": null,
      "outputs": []
    },
    {
      "cell_type": "code",
      "metadata": {
        "colab": {
          "base_uri": "https://localhost:8080/"
        },
        "id": "lwZCeifDYlFc",
        "outputId": "96caf44b-b8df-4b83-e017-fdf374063b0f"
      },
      "source": [
        "print(type(page_links))"
      ],
      "execution_count": null,
      "outputs": [
        {
          "output_type": "stream",
          "text": [
            "<class 'list'>\n"
          ],
          "name": "stdout"
        }
      ]
    },
    {
      "cell_type": "code",
      "metadata": {
        "colab": {
          "base_uri": "https://localhost:8080/"
        },
        "id": "nt8yelcNR9WR",
        "outputId": "9b605e7a-dcf3-4ec1-e638-d263d37d27ca"
      },
      "source": [
        "page_links"
      ],
      "execution_count": null,
      "outputs": [
        {
          "output_type": "execute_result",
          "data": {
            "text/plain": [
              "['https://www.amazon.com/Bubble-Sensory-Special-Reliever-Squeeze/dp/B08LB3HB31/',\n",
              " 'https://www.amazon.com/Crayola-Ultra-Clean-Washable-Non-Toxic-Classrooms/dp/B013RQPB5C/',\n",
              " 'https://www.amazon.com/Buffalo-Games-Darrell-Signature-Collection/dp/B084GF5914/',\n",
              " 'https://www.amazon.com/Play-Doh-Modeling-Compound-Non-Toxic-Exclusive/dp/B00JM5GW10/',\n",
              " 'https://www.amazon.com/Cards-Against-Humanity-LLC-CAHUS/dp/B004S8F7QM/',\n",
              " 'https://www.amazon.com/Funko-Pop-Customizable-Exclusive-Collectible/dp/B08B77Q738/',\n",
              " 'https://www.amazon.com/TeeTurtle-Unstable-Unicorns-Adventure-Expansion/dp/B085JSJPMF/',\n",
              " 'https://www.amazon.com/Play-Doh-Party-Bag-Dough-Count/dp/B0037710BG/',\n",
              " 'https://www.amazon.com/ThinkFun-Gravity-Marble-Logic-Girls/dp/B00IUAAK2A/',\n",
              " 'https://www.amazon.com/Amerous-Inches-Magnetic-Wooden-Chess/dp/B07N5ZS5QP/',\n",
              " 'https://www.amazon.com/Crayola-Light-Up-Tracing-Coloring-Amazon/dp/B07P6RFKRL/',\n",
              " 'https://www.amazon.com/Just-Smarty-Interactive-Educational-Kindergarten/dp/B074PYYM51/',\n",
              " 'https://www.amazon.com/Kids-Against-Maturity-Original-Humanity/dp/B076PRWVFG/',\n",
              " 'https://www.amazon.com/Mattel-Games-Official-Amazon-Exclusive/dp/B07P6MZPK3/',\n",
              " 'https://www.amazon.com/Fidget-Sensory-Anti-Anxiety-Squeeze-Soybean/dp/B07F7KJNKK/',\n",
              " 'https://www.amazon.com/Inflating-Birthday-Balloon-Bunting-Letters/dp/B0893VNC1P/',\n",
              " 'https://www.amazon.com/BunMo-Sensory-Autistic-Children-Fidgets/dp/B088SZ9SPH/',\n",
              " 'https://www.amazon.com/Fisher-Price-Rattle-Rock-Maracas-Orange/dp/B071FLSWBS/',\n",
              " 'https://www.amazon.com/Magnifying-Illuminated-Magnifier-Degeneration-Inspection/dp/B07G55FSPX/',\n",
              " 'https://www.amazon.com/Jax-8002-Sequence-Game/dp/B00000IVAK/',\n",
              " 'https://www.amazon.com/LCR%C2%AE-Left-Center-RightTM-Dice/dp/B003I64OT6/',\n",
              " 'https://www.amazon.com/Beat-That-Bonkers-Battle-Challenges/dp/B07Z5BRRF7/',\n",
              " 'https://www.amazon.com/Crayola-Colored-Pre-sharpened-Coloring-Stocking/dp/B018HB2QFU/',\n",
              " 'https://www.amazon.com/Hasbro-A5640-Connect-4-Game/dp/B00D8STBHY/',\n",
              " 'https://www.amazon.com/Taco-Cat-Goat-Cheese-Pizza/dp/B077Z1R28P/',\n",
              " 'https://www.amazon.com/TeeTurtle-Reversible-Octopus-Mini-Plush/dp/B07H4YQF3Q/',\n",
              " 'https://www.amazon.com/LEGO-Adventures-Building-Interactive-Featuring/dp/B085878WLK/',\n",
              " 'https://www.amazon.com/Puzzle-Presto-Peel-Stick-Saver/dp/B00E67F3WI/',\n",
              " 'https://www.amazon.com/Hasbro-Gaming-C1009-Monopoly-Classic/dp/B01MU9K3XU/',\n",
              " 'https://www.amazon.com/Exploding-Kittens-LLC-EKG-ORG1-1-Card/dp/B010TQY7A8/',\n",
              " 'https://www.amazon.com/dp/B07984JN3L?_encoding=UTF8&ie=UTF-8&plattr=ACOMFO',\n",
              " 'https://www.amazon.com/Jenga-A2120EU4-Classic-Game/dp/B00ABA0ZOA/',\n",
              " 'https://www.amazon.com/Selieve-Talkies-Channels-Backlit-Flashlight/dp/B07PZCQLJY/',\n",
              " 'https://www.amazon.com/Ontel-Belly-Stuffed-Animal-Cuddly/dp/B089F6DW36/',\n",
              " 'https://www.amazon.com/SunWorks-Construction-Paper-Black-Sheets/dp/B002LARR7Q/',\n",
              " 'https://www.amazon.com/LeapFrog-Animals-Book-Frustration-Packaging/dp/B085KTB1WY/',\n",
              " 'https://www.amazon.com/Play-Doh-Pack-Case-Blue/dp/B07BC152DC/',\n",
              " 'https://www.amazon.com/LEGO-Classic-Medium-Creative-Brick/dp/B00NHQFA1I/',\n",
              " 'https://www.amazon.com/Nuby-Floating-Purple-Octopus-Interactive/dp/B083ZZSGLR/',\n",
              " 'https://www.amazon.com/VTech-Sit-to-Stand-Learning-Walker-Blue/dp/B07CRSXMW8/',\n",
              " 'https://www.amazon.com/Crayola-Different-Colored-Pencils-Coloring/dp/B019592CL6/',\n",
              " 'https://www.amazon.com/Flybar-Jumper-Toddlers-Durable-Supports/dp/B00WTDXSDM/',\n",
              " 'https://www.amazon.com/Relieves-Children-Assortment-Birthday-Classroom/dp/B07F81VDL2/',\n",
              " 'https://www.amazon.com/Learning-Resources-Recordable-Answer-Buzzers/dp/B00HT5HBMO/',\n",
              " 'https://www.amazon.com/ThinkFun-Zingo-Winning-Pre-Readers-Readers/dp/B01DY818JG/',\n",
              " 'https://www.amazon.com/dp/B07CBJQS16?_encoding=UTF8&ie=UTF-8&place=camp&plattr=CCLFOOT&pr=ibprox&',\n",
              " 'https://www.amazon.com/Disney-51394-Ariel-Necklace-Set/dp/B00BTX5926/',\n",
              " 'https://www.amazon.com/First-Years-Stack-Up-Cups/dp/B00005C5H4/',\n",
              " 'https://www.amazon.com/Click-Play-Phthalate-Crush-Plastic/dp/B00PYLU3GG/',\n",
              " 'https://www.amazon.com/Sensory-Set-Liquid-Stretchy-Autistic-Anti-stress/dp/B07YJF17C9/',\n",
              " 'https://www.amazon.com/Toyk-Aqua-Magic-Mat-Educational/dp/B07GKWLBN2/',\n",
              " 'https://www.amazon.com/VTech-Pull-and-Sing-Puppy/dp/B01MQ3YP7Y/']"
            ]
          },
          "metadata": {
            "tags": []
          },
          "execution_count": 13
        }
      ]
    },
    {
      "cell_type": "code",
      "metadata": {
        "id": "Dic3DMUzXuN4"
      },
      "source": [
        "def scrape_product_page(url, title_lookup = \"#productTitle\", price_lookup = \"#priceblock_ourprice\"):\n",
        "    driver.get(url)\n",
        "    body_el = driver.find_element_by_css_selector(\"body\")\n",
        "    html_str = body_el.get_attribute(\"innerHTML\")\n",
        "    #print(html_str)\n",
        "    html_obj = HTML(html=html_str)\n",
        "    product_title = html_obj.find(title_lookup, first=True).text\n",
        "    product_price = html_obj.find(price_lookup, first=True).text\n",
        "    #print(product_title, product_price)\n",
        "    return product_title, product_price"
      ],
      "execution_count": null,
      "outputs": []
    },
    {
      "cell_type": "code",
      "metadata": {
        "colab": {
          "base_uri": "https://localhost:8080/",
          "height": 35
        },
        "id": "BOsaV--eSdee",
        "outputId": "ca9c7d15-9d21-4ae2-af8d-3cffc80cb2cf"
      },
      "source": [
        "first_product_link = page_links[0]\n",
        "first_product_link"
      ],
      "execution_count": null,
      "outputs": [
        {
          "output_type": "execute_result",
          "data": {
            "application/vnd.google.colaboratory.intrinsic+json": {
              "type": "string"
            },
            "text/plain": [
              "'https://www.amazon.com/Bubble-Sensory-Special-Reliever-Squeeze/dp/B08LB3HB31/'"
            ]
          },
          "metadata": {
            "tags": []
          },
          "execution_count": 15
        }
      ]
    },
    {
      "cell_type": "code",
      "metadata": {
        "colab": {
          "base_uri": "https://localhost:8080/"
        },
        "id": "VnVKvewbSxd0",
        "outputId": "0c94bbcb-57e9-49ff-af09-6871c4f0a348"
      },
      "source": [
        "#from functools import partial \n",
        "#from tqdm import tqdm\n",
        "#bar = partial(tqdm, position=0, leave=True)\n",
        "#for link in bar(page_links):\n",
        "i = 0\n",
        "for link in page_links:\n",
        "    title, price = (None, None)\n",
        "    try:\n",
        "        title, price = scrape_product_page(link)\n",
        "    except:\n",
        "        pass\n",
        "    if title != None and price != None:\n",
        "        i += 1\n",
        "        print(str(i)+\") \"+str(title))\n",
        "        print(\"Price: \" + str(price))\n",
        "        print(\"Link: \" + str(link)+\"\\n\")"
      ],
      "execution_count": null,
      "outputs": [
        {
          "output_type": "stream",
          "text": [
            "1) Crayola Ultra Clean Washable Markers, Kids Indoor Activities At Home, Broad Line, 40 Classic Colors\n",
            "Price: $12.22\n",
            "Link: https://www.amazon.com/Crayola-Ultra-Clean-Washable-Non-Toxic-Classrooms/dp/B013RQPB5C/\n",
            "\n",
            "2) Play-Doh Modeling Compound 10 Pack Case of Colors, Non-Toxic, Assorted Colors, 2 Oz Cans, Ages 2 & Up, (Amazon Exclusive), Multicolor\n",
            "Price: $8.19\n",
            "Link: https://www.amazon.com/Play-Doh-Modeling-Compound-Non-Toxic-Exclusive/dp/B00JM5GW10/\n",
            "\n",
            "3) Cards Against Humanity\n",
            "Price: $25.00\n",
            "Link: https://www.amazon.com/Cards-Against-Humanity-LLC-CAHUS/dp/B004S8F7QM/\n",
            "\n",
            "4) Funko Pop! TV: The Office - Customizable Chrome Dundie Award, Amazon Exclusive Collectible Vinyl Figure (52077)\n",
            "Price: $12.99\n",
            "Link: https://www.amazon.com/Funko-Pop-Customizable-Exclusive-Collectible/dp/B08B77Q738/\n",
            "\n",
            "5) TeeTurtle Unstable Unicorns Adventures Expansion Pack - Designed to be Added to Your Unstable Unicorns Card Game (TEE4893UUEXP1)\n",
            "Price: $15.00\n",
            "Link: https://www.amazon.com/TeeTurtle-Unstable-Unicorns-Adventure-Expansion/dp/B085JSJPMF/\n",
            "\n",
            "6) Play-Doh Handout Non-Toxic Modeling Compound 15 1 oz cans - Stocking stuffer\n",
            "Price: $4.99\n",
            "Link: https://www.amazon.com/Play-Doh-Party-Bag-Dough-Count/dp/B0037710BG/\n",
            "\n",
            "7) ThinkFun Gravity Maze Marble Run Brain Game and STEM Toy for Boys and Girls Age 8 and Up – Toy of the Year Award Winner\n",
            "Price: $29.93\n",
            "Link: https://www.amazon.com/ThinkFun-Gravity-Marble-Logic-Girls/dp/B00IUAAK2A/\n",
            "\n",
            "8) Amerous 15 Inches Magnetic Wooden Chess Set - 2 Extra Queens - Folding Board, Handmade Portable Travel Chess Board Game Sets with Game Pieces Storage Slots - Beginner Chess Set for Kids and Adults\n",
            "Price: $43.99\n",
            "Link: https://www.amazon.com/Amerous-Inches-Magnetic-Wooden-Chess/dp/B07N5ZS5QP/\n",
            "\n",
            "9) Crayola Light Up Tracing Pad Teal, Amazon Exclusive, Kids Toys, Ages 6, 7, 8, 9, 10\n",
            "Price: $24.99\n",
            "Link: https://www.amazon.com/Crayola-Light-Up-Tracing-Coloring-Amazon/dp/B07P6RFKRL/\n",
            "\n",
            "10) Just Smarty Electronic Interactive Alphabet Wall Chart, Talking ABC & 123s & Music Poster, Best Educational Toy for Toddler. Kids Fun Learning at Daycare, Preschool, Kindergarten for Boys & Girls\n",
            "Price: $24.99\n",
            "Link: https://www.amazon.com/Just-Smarty-Interactive-Educational-Kindergarten/dp/B074PYYM51/\n",
            "\n",
            "11) Kids Against Maturity: Card Game for Kids and Families, Super Fun Hilarious for Family Party Game Night\n",
            "Price: $29.99\n",
            "Link: https://www.amazon.com/Kids-Against-Maturity-Original-Humanity/dp/B076PRWVFG/\n",
            "\n",
            "12) Mattel Games UNO\n",
            "Price: $9.99\n",
            "Link: https://www.amazon.com/Mattel-Games-Official-Amazon-Exclusive/dp/B07P6MZPK3/\n",
            "\n",
            "13) Happy Birthday Balloon Banner Bunting 16 inch Letters Foil Balloons Party Decor (Black)\n",
            "Price: $9.99\n",
            "Link: https://www.amazon.com/Inflating-Birthday-Balloon-Bunting-Letters/dp/B0893VNC1P/\n",
            "\n",
            "14) BunMo XL Pop Tubes Sensory Toys for Autistic Children and Fidgets for Kids, ADHD Toys for Kids and Autism Toys for Boys and Girls\n",
            "Price: $14.49\n",
            "Link: https://www.amazon.com/BunMo-Sensory-Autistic-Children-Fidgets/dp/B088SZ9SPH/\n",
            "\n",
            "15) Fisher-Price Rattle 'n Rock Maracas, Blue/Orange [Amazon Exclusive]\n",
            "Price: $6.99\n",
            "Link: https://www.amazon.com/Fisher-Price-Rattle-Rock-Maracas-Orange/dp/B071FLSWBS/\n",
            "\n",
            "16) Magnifying Glass with Light, 30X Handheld Large Magnifying Glass 12 LED Illuminated Lighted Magnifier for Macular Degeneration, Seniors Reading, Soldering, Inspection, Coins, Jewelry, Exploring(Black)\n",
            "Price: $16.99\n",
            "Link: https://www.amazon.com/Magnifying-Illuminated-Magnifier-Degeneration-Inspection/dp/B07G55FSPX/\n",
            "\n",
            "17) SEQUENCE- Original SEQUENCE Game with Folding Board, Cards and Chips by Jax ( Packaging may Vary )\n",
            "Price: $12.59\n",
            "Link: https://www.amazon.com/Jax-8002-Sequence-Game/dp/B00000IVAK/\n",
            "\n",
            "18) LCR® Left Center Right™ Dice Game - Blue Tin\n",
            "Price: $8.98\n",
            "Link: https://www.amazon.com/LCR%C2%AE-Left-Center-RightTM-Dice/dp/B003I64OT6/\n",
            "\n",
            "19) Beat That! - The Bonkers Battle of Wacky Challenges [Family Party Game for Kids & Adults]\n",
            "Price: $24.99\n",
            "Link: https://www.amazon.com/Beat-That-Bonkers-Battle-Challenges/dp/B07Z5BRRF7/\n",
            "\n",
            "20) Crayola Colored Pencils, Adult Coloring, Fun At Home Activities, 50 Count, Multicolor\n",
            "Price: $10.99\n",
            "Link: https://www.amazon.com/Crayola-Colored-Pre-sharpened-Coloring-Stocking/dp/B018HB2QFU/\n",
            "\n",
            "21) Hasbro Connect 4 Game\n",
            "Price: $9.84\n",
            "Link: https://www.amazon.com/Hasbro-A5640-Connect-4-Game/dp/B00D8STBHY/\n",
            "\n",
            "22) Taco Cat Goat Cheese Pizza\n",
            "Price: $9.99\n",
            "Link: https://www.amazon.com/Taco-Cat-Goat-Cheese-Pizza/dp/B077Z1R28P/\n",
            "\n",
            "23) The Original Reversible Octopus Plushie | TeeTurtle’s Patented Design | Black and Gray | Show your mood without saying a word!\n",
            "Price: $15.00\n",
            "Link: https://www.amazon.com/TeeTurtle-Reversible-Octopus-Mini-Plush/dp/B07H4YQF3Q/\n",
            "\n",
            "24) Puzzle Presto! Peel & Stick Puzzle Saver: The Original and Still the Best Way to Preserve Your Finished Puzzle!\n",
            "Price: $8.80\n",
            "Link: https://www.amazon.com/Puzzle-Presto-Peel-Stick-Saver/dp/B00E67F3WI/\n",
            "\n",
            "25) Monopoly Classic Game\n",
            "Price: $19.82\n",
            "Link: https://www.amazon.com/Hasbro-Gaming-C1009-Monopoly-Classic/dp/B01MU9K3XU/\n",
            "\n",
            "26) Exploding Kittens Card Game - Family-Friendly Party Games - Card Games for Adults, Teens & Kids\n",
            "Price: $19.99\n",
            "Link: https://www.amazon.com/Exploding-Kittens-LLC-EKG-ORG1-1-Card/dp/B010TQY7A8/\n",
            "\n",
            "27) Jenga Classic Game\n",
            "Price: $12.88\n",
            "Link: https://www.amazon.com/Jenga-A2120EU4-Classic-Game/dp/B00ABA0ZOA/\n",
            "\n",
            "28) Selieve Toys for 3-12 Year Old Boys Girls, Walkie Talkies for Kids 22 Channels 2 Way Radio Toy with Backlit LCD Flashlight, 3 Miles Range for Outside, Camping, Hiking\n",
            "Price: $23.99\n",
            "Link: https://www.amazon.com/Selieve-Talkies-Channels-Backlit-Flashlight/dp/B07PZCQLJY/\n",
            "\n",
            "29) Ontel Star Belly Dream Lites, Stuffed Animal Night Light, Cuddly Blue Puppy\n",
            "Price: $29.99\n",
            "Link: https://www.amazon.com/Ontel-Belly-Stuffed-Animal-Cuddly/dp/B089F6DW36/\n",
            "\n",
            "30) SunWorks Heavyweight Construction Paper, 9 x 12 Inches, Black, 100 Sheets\n",
            "Price: $3.69\n",
            "Link: https://www.amazon.com/SunWorks-Construction-Paper-Black-Sheets/dp/B002LARR7Q/\n",
            "\n",
            "31) LeapFrog 100 Animals Book (Frustration Free Packaging), Pink\n",
            "Price: $17.99\n",
            "Link: https://www.amazon.com/LeapFrog-Animals-Book-Frustration-Packaging/dp/B085KTB1WY/\n",
            "\n",
            "32) Play-Doh Bulk 12-Pack of Blue Non-Toxic Modeling Compound, 4-Ounce Cans\n",
            "Price: $10.99\n",
            "Link: https://www.amazon.com/Play-Doh-Pack-Case-Blue/dp/B07BC152DC/\n",
            "\n",
            "33) Nuby Floating Purple Octopus with 3 Hoopla Rings Interactive Bath Toy\n",
            "Price: $6.89\n",
            "Link: https://www.amazon.com/Nuby-Floating-Purple-Octopus-Interactive/dp/B083ZZSGLR/\n",
            "\n",
            "34) VTech Sit-To-Stand Learning Walker (Frustration Free Packaging), Blue\n",
            "Price: $34.99\n",
            "Link: https://www.amazon.com/VTech-Sit-to-Stand-Learning-Walker-Blue/dp/B07CRSXMW8/\n",
            "\n",
            "35) Crayola Colored Pencils Adult Coloring Set, Gift, 100 Count\n",
            "Price: $13.45\n",
            "Link: https://www.amazon.com/Crayola-Different-Colored-Pencils-Coloring/dp/B019592CL6/\n",
            "\n",
            "36) Flybar My First Foam Pogo Jumper for Kids Fun and Safe Pogo Stick for Toddlers, Durable Foam and Bungee Jumper for Ages 3 and up, Supports up to 250lbs\n",
            "Price: $16.99\n",
            "Link: https://www.amazon.com/Flybar-Jumper-Toddlers-Durable-Supports/dp/B00WTDXSDM/\n",
            "\n",
            "37) Learning Resources Recordable Answer Buzzers, Personalized Sound Buzzers, Talking Button, Set of 4, Ages 3+\n",
            "Price: $19.99\n",
            "Link: https://www.amazon.com/Learning-Resources-Recordable-Answer-Buzzers/dp/B00HT5HBMO/\n",
            "\n",
            "38) ThinkFun Zingo Bingo Award Winning Preschool Game for Pre-Readers and Early Readers Age 4 and Up - One of the Most Popular Board Games for Boys and Girls and their Parents, Amazon Exclusive Version\n",
            "Price: $19.99\n",
            "Link: https://www.amazon.com/ThinkFun-Zingo-Winning-Pre-Readers-Readers/dp/B01DY818JG/\n",
            "\n",
            "39) Tara Toys Ariel Necklace Activity Set - Amazon Exclusive (51394)\n",
            "Price: $12.99\n",
            "Link: https://www.amazon.com/Disney-51394-Ariel-Necklace-Set/dp/B00BTX5926/\n",
            "\n",
            "40) The First Years Stack Up Cup Toys\n",
            "Price: $4.99\n",
            "Link: https://www.amazon.com/First-Years-Stack-Up-Cups/dp/B00005C5H4/\n",
            "\n",
            "41) Click N' Play Pack of 200 Phthalate Free BPA Free Crush Proof Plastic Ball, Pit Balls - 6 Bright Colors in Reusable and Durable Storage Mesh Bag with Zipper\n",
            "Price: $27.79\n",
            "Link: https://www.amazon.com/Click-Play-Phthalate-Crush-Plastic/dp/B00PYLU3GG/\n",
            "\n",
            "42) Water Doodle Mat - Kids Painting Writing Doodle Toy Mat - Color Doodle Drawing Mat Bring Magic Pens Educational Toys for Age 3 4 5 6 7 8 9 10 11 12 Year Old Girls Boys Age Toddler Gift\n",
            "Price: $21.97\n",
            "Link: https://www.amazon.com/Toyk-Aqua-Magic-Mat-Educational/dp/B07GKWLBN2/\n",
            "\n",
            "43) VTech Pull and Sing Puppy\n",
            "Price: $12.85\n",
            "Link: https://www.amazon.com/VTech-Pull-and-Sing-Puppy/dp/B01MQ3YP7Y/\n",
            "\n"
          ],
          "name": "stdout"
        }
      ]
    }
  ]
}