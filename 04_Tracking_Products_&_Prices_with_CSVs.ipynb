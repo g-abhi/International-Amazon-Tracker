{
  "nbformat": 4,
  "nbformat_minor": 0,
  "metadata": {
    "colab": {
      "name": "04 - Tracking Products & Prices with CSVs.ipynb",
      "provenance": [],
      "collapsed_sections": []
    },
    "kernelspec": {
      "name": "python3",
      "display_name": "Python 3"
    }
  },
  "cells": [
    {
      "cell_type": "code",
      "metadata": {
        "id": "BceGcw7MMJME"
      },
      "source": [
        "# https://www.amazon.com/gp/navigation-country/select-country\n",
        "!pip install selenium\n",
        "!apt install chromium-chromedriver\n",
        "!pip install requests-html"
      ],
      "execution_count": null,
      "outputs": []
    },
    {
      "cell_type": "code",
      "metadata": {
        "id": "JKeRjN9MLsbo"
      },
      "source": [
        "from pathlib import Path\n",
        "import re\n",
        "import requests\n",
        "import time\n",
        "import datetime\n",
        "\n",
        "import pandas as pd\n",
        "from requests_html import HTML\n",
        "from selenium import webdriver\n",
        "from selenium.webdriver.chrome.options import Options"
      ],
      "execution_count": null,
      "outputs": []
    },
    {
      "cell_type": "code",
      "metadata": {
        "id": "0fqtLuvk5HmT"
      },
      "source": [
        "product_category_links_output = \"/content/category-products.csv\"\n",
        "product_output = \"/content/products.csv\""
      ],
      "execution_count": null,
      "outputs": []
    },
    {
      "cell_type": "code",
      "metadata": {
        "id": "SS2MwexqMIJm"
      },
      "source": [
        "options = webdriver.ChromeOptions()\n",
        "options.add_argument('-headless')\n",
        "options.add_argument('-no-sandbox')\n",
        "options.add_argument('-disable-dev-shm-usage')\n",
        "\n",
        "driver = webdriver.Chrome('chromedriver', options=options)"
      ],
      "execution_count": null,
      "outputs": []
    },
    {
      "cell_type": "code",
      "metadata": {
        "id": "CfPQWdey5RbN"
      },
      "source": [
        "categories = [\n",
        "    {\"name\": \"toys-and-games\", \"url\": \"https://www.amazon.com/Best-Sellers-Toys-Games/zgbs/toys-and-games/\"},\n",
        "    {\"name\": \"electronics\", \"url\": \"https://www.amazon.com/Best-Sellers-Electronics/zgbs/electronics/\"},\n",
        "    {\"name\": \"video-games\", \"url\": \"https://www.amazon.com/best-sellers-video-games/zgbs/videogames/\"},\n",
        "    {\"name\": \"books\", \"url\": \"https://www.amazon.com/best-sellers-books/zgbs/books/\"}\n",
        "]"
      ],
      "execution_count": null,
      "outputs": []
    },
    {
      "cell_type": "code",
      "metadata": {
        "colab": {
          "base_uri": "https://localhost:8080/"
        },
        "id": "tymp8dZJV8Di",
        "outputId": "0e1bbf74-a9fb-4939-fcc4-7e8a82ed1947"
      },
      "source": [
        "categories"
      ],
      "execution_count": null,
      "outputs": [
        {
          "output_type": "execute_result",
          "data": {
            "text/plain": [
              "[{'name': 'toys-and-games',\n",
              "  'url': 'https://www.amazon.com/Best-Sellers-Toys-Games/zgbs/toys-and-games/'},\n",
              " {'name': 'electronics',\n",
              "  'url': 'https://www.amazon.com/Best-Sellers-Electronics/zgbs/electronics/'},\n",
              " {'name': 'video-games',\n",
              "  'url': 'https://www.amazon.com/best-sellers-video-games/zgbs/videogames/'},\n",
              " {'name': 'books',\n",
              "  'url': 'https://www.amazon.com/best-sellers-books/zgbs/books/'}]"
            ]
          },
          "metadata": {
            "tags": []
          },
          "execution_count": 6
        }
      ]
    },
    {
      "cell_type": "code",
      "metadata": {
        "id": "dmgK6QQM5qla"
      },
      "source": [
        "regex_options = [\n",
        "    r\"https://www.amazon.com/gp/product/(?P<product_id>[\\w-]+)/\",\n",
        "    r\"https://www.amazon.com/dp/(?P<product_id>[\\w-]+)/\",\n",
        "    r\"https://www.amazon.com/(?P<slug>[\\w-]+)/dp/(?P<product_id>[\\w-]+)/\",\n",
        "]\n",
        "\n",
        "def extract_product_id_from_url(url):\n",
        "    product_id = None\n",
        "    for regex_str in regex_options:\n",
        "        regex = re.compile(regex_str)\n",
        "        match = regex.match(url)\n",
        "        if match != None:\n",
        "            try:\n",
        "                product_id = match['product_id']\n",
        "            except:\n",
        "                pass\n",
        "    return product_id"
      ],
      "execution_count": null,
      "outputs": []
    },
    {
      "cell_type": "code",
      "metadata": {
        "id": "xd9gAFDpuTRE"
      },
      "source": [
        "def clean_page_links(page_links=[], category=None):\n",
        "    page_links = [x.split(\"ref\", 1)[0] for x in page_links]\n",
        "    final_page_links = []\n",
        "    for url in page_links:\n",
        "        product_id = extract_product_id_from_url(url)\n",
        "        if product_id != None:\n",
        "            final_page_links.append({\"url\": url, \"product_id\": product_id, \"category\": category})\n",
        "    return final_page_links"
      ],
      "execution_count": null,
      "outputs": []
    },
    {
      "cell_type": "code",
      "metadata": {
        "id": "BAVdMUQ6FRm8"
      },
      "source": [
        "def scrape_category_product_links(categories=[]):\n",
        "    all_product_links = []\n",
        "    for category in categories:\n",
        "        time.sleep(1.5)\n",
        "        url = category.get(\"url\")\n",
        "        driver.get(url)\n",
        "        body_el = driver.find_element_by_css_selector(\"body\")\n",
        "        html_str = body_el.get_attribute(\"innerHTML\")\n",
        "        html_obj = HTML(html=html_str)\n",
        "        page_links = [f\"https://www.amazon.com{x}\" for x in html_obj.links if x.startswith(\"/\")]\n",
        "        cleaned_links = clean_page_links(page_links=page_links, category=category)\n",
        "        all_product_links += cleaned_links\n",
        "    return all_product_links"
      ],
      "execution_count": null,
      "outputs": []
    },
    {
      "cell_type": "code",
      "metadata": {
        "id": "Pcs4BWffFSRO"
      },
      "source": [
        "def extract_categories_and_save(categories=[]):\n",
        "    all_product_links = scrape_category_product_links(categories)\n",
        "    category_df = pd.DataFrame(all_product_links)\n",
        "    category_df.to_csv(product_category_links_output, index=False)"
      ],
      "execution_count": null,
      "outputs": []
    },
    {
      "cell_type": "code",
      "metadata": {
        "id": "MMsuc2UBFUeg"
      },
      "source": [
        "extract_categories_and_save(categories=categories)"
      ],
      "execution_count": null,
      "outputs": []
    },
    {
      "cell_type": "code",
      "metadata": {
        "id": "REl55x-NFWfE"
      },
      "source": [
        "def scrape_product_page(url, title_lookup = \"#productTitle\", price_lookup = \"#priceblock_ourprice\"):\n",
        "    driver.get(url)\n",
        "    time.sleep(1.5)\n",
        "    body_el = driver.find_element_by_css_selector(\"body\")\n",
        "    html_str = body_el.get_attribute(\"innerHTML\")\n",
        "    html_obj = HTML(html=html_str)\n",
        "    product_title = html_obj.find(title_lookup, first=True).text\n",
        "    product_price = html_obj.find(price_lookup, first=True).text\n",
        "    return product_title, product_price"
      ],
      "execution_count": null,
      "outputs": []
    },
    {
      "cell_type": "code",
      "metadata": {
        "id": "Sb74tavzFZSo"
      },
      "source": [
        "def perform_scrape(cleaned_items=[]):\n",
        "    data_extracted = []\n",
        "    for obj in cleaned_items:\n",
        "        link = obj['url']\n",
        "        product_id = obj['product_id']\n",
        "        title, price = (None, None)\n",
        "        try:\n",
        "            title, price = scrape_product_page(link)\n",
        "        except:\n",
        "            pass\n",
        "        if title != None and price != None:\n",
        "            print(link, title, price)\n",
        "        product_data = {\n",
        "            \"url\": link,\n",
        "            \"product_id\": product_id,\n",
        "            \"title\": title,\n",
        "            \"price\": price\n",
        "        }\n",
        "        data_extracted.append(product_data)\n",
        "    return data_extracted"
      ],
      "execution_count": null,
      "outputs": []
    },
    {
      "cell_type": "code",
      "metadata": {
        "id": "h19xuST3FbjA"
      },
      "source": [
        "#extracted_data = perform_scrape(cleaned_items=cleaned_links)"
      ],
      "execution_count": null,
      "outputs": []
    },
    {
      "cell_type": "code",
      "metadata": {
        "id": "vVffSE2RFdjP"
      },
      "source": [
        "#print(extracted_data)"
      ],
      "execution_count": null,
      "outputs": []
    },
    {
      "cell_type": "code",
      "metadata": {
        "id": "a5l1-SlFFf5w"
      },
      "source": [
        "def row_scrape_event(row, *args, **kwargs):\n",
        "    link = row['url']\n",
        "    scraped = 0\n",
        "    try:\n",
        "        scraped = row['scraped']\n",
        "    except:\n",
        "        pass\n",
        "    # print(link)\n",
        "    if scraped == 1 or scraped == \"1\":\n",
        "        print(\"skipped\")\n",
        "        return row\n",
        "    product_id = row['product_id']\n",
        "    title, price = (None, None)\n",
        "    try:\n",
        "        title, price = scrape_product_page(link)\n",
        "    except:\n",
        "        pass\n",
        "    row['title'] = title\n",
        "    row['price'] = price\n",
        "    row['scraped'] = 1\n",
        "    #row['timestamp'] = datetime.datetime.now().timestamp()\n",
        "    print(link, title, price)\n",
        "    return row"
      ],
      "execution_count": null,
      "outputs": []
    },
    {
      "cell_type": "code",
      "metadata": {
        "colab": {
          "base_uri": "https://localhost:8080/",
          "height": 203
        },
        "id": "RfvK0DcMFjTY",
        "outputId": "dea7b147-e7f3-4542-c414-6e1640917934"
      },
      "source": [
        "df = pd.read_csv(product_category_links_output)\n",
        "df.head()"
      ],
      "execution_count": null,
      "outputs": [
        {
          "output_type": "execute_result",
          "data": {
            "text/html": [
              "<div>\n",
              "<style scoped>\n",
              "    .dataframe tbody tr th:only-of-type {\n",
              "        vertical-align: middle;\n",
              "    }\n",
              "\n",
              "    .dataframe tbody tr th {\n",
              "        vertical-align: top;\n",
              "    }\n",
              "\n",
              "    .dataframe thead th {\n",
              "        text-align: right;\n",
              "    }\n",
              "</style>\n",
              "<table border=\"1\" class=\"dataframe\">\n",
              "  <thead>\n",
              "    <tr style=\"text-align: right;\">\n",
              "      <th></th>\n",
              "      <th>url</th>\n",
              "      <th>product_id</th>\n",
              "      <th>category</th>\n",
              "    </tr>\n",
              "  </thead>\n",
              "  <tbody>\n",
              "    <tr>\n",
              "      <th>0</th>\n",
              "      <td>https://www.amazon.com/Click-Play-Phthalate-Cr...</td>\n",
              "      <td>B00PYLU3GG</td>\n",
              "      <td>{'name': 'toys-and-games', 'url': 'https://www...</td>\n",
              "    </tr>\n",
              "    <tr>\n",
              "      <th>1</th>\n",
              "      <td>https://www.amazon.com/Cards-Against-Humanity-...</td>\n",
              "      <td>B004S8F7QM</td>\n",
              "      <td>{'name': 'toys-and-games', 'url': 'https://www...</td>\n",
              "    </tr>\n",
              "    <tr>\n",
              "      <th>2</th>\n",
              "      <td>https://www.amazon.com/Kids-Against-Maturity-O...</td>\n",
              "      <td>B076PRWVFG</td>\n",
              "      <td>{'name': 'toys-and-games', 'url': 'https://www...</td>\n",
              "    </tr>\n",
              "    <tr>\n",
              "      <th>3</th>\n",
              "      <td>https://www.amazon.com/Mattel-Games-Official-A...</td>\n",
              "      <td>B07P6MZPK3</td>\n",
              "      <td>{'name': 'toys-and-games', 'url': 'https://www...</td>\n",
              "    </tr>\n",
              "    <tr>\n",
              "      <th>4</th>\n",
              "      <td>https://www.amazon.com/Flybar-Jumper-Toddlers-...</td>\n",
              "      <td>B00WTDXSDM</td>\n",
              "      <td>{'name': 'toys-and-games', 'url': 'https://www...</td>\n",
              "    </tr>\n",
              "  </tbody>\n",
              "</table>\n",
              "</div>"
            ],
            "text/plain": [
              "                                                 url  ...                                           category\n",
              "0  https://www.amazon.com/Click-Play-Phthalate-Cr...  ...  {'name': 'toys-and-games', 'url': 'https://www...\n",
              "1  https://www.amazon.com/Cards-Against-Humanity-...  ...  {'name': 'toys-and-games', 'url': 'https://www...\n",
              "2  https://www.amazon.com/Kids-Against-Maturity-O...  ...  {'name': 'toys-and-games', 'url': 'https://www...\n",
              "3  https://www.amazon.com/Mattel-Games-Official-A...  ...  {'name': 'toys-and-games', 'url': 'https://www...\n",
              "4  https://www.amazon.com/Flybar-Jumper-Toddlers-...  ...  {'name': 'toys-and-games', 'url': 'https://www...\n",
              "\n",
              "[5 rows x 3 columns]"
            ]
          },
          "metadata": {
            "tags": []
          },
          "execution_count": 17
        }
      ]
    },
    {
      "cell_type": "code",
      "metadata": {
        "colab": {
          "base_uri": "https://localhost:8080/"
        },
        "id": "EhMoq3y-FqZ4",
        "outputId": "5916100d-a1fe-455b-b69d-832fa1505a5d"
      },
      "source": [
        "df.shape"
      ],
      "execution_count": null,
      "outputs": [
        {
          "output_type": "execute_result",
          "data": {
            "text/plain": [
              "(203, 3)"
            ]
          },
          "metadata": {
            "tags": []
          },
          "execution_count": 18
        }
      ]
    },
    {
      "cell_type": "code",
      "metadata": {
        "id": "KcBmennoFsK4"
      },
      "source": [
        "df_sub = df.copy() # df.head(n=10)"
      ],
      "execution_count": null,
      "outputs": []
    },
    {
      "cell_type": "code",
      "metadata": {
        "colab": {
          "base_uri": "https://localhost:8080/"
        },
        "id": "MpfslDLPFubg",
        "outputId": "8cd0b656-bba4-4987-94de-c50faa865eb2"
      },
      "source": [
        "df_sub = df_sub.apply(row_scrape_event, axis=1)"
      ],
      "execution_count": null,
      "outputs": [
        {
          "output_type": "stream",
          "text": [
            "https://www.amazon.com/Click-Play-Phthalate-Crush-Plastic/dp/B00PYLU3GG/ Click N' Play Pack of 200 Phthalate Free BPA Free Crush Proof Plastic Ball, Pit Balls - 6 Bright Colors in Reusable and Durable Storage Mesh Bag with Zipper $27.79\n",
            "https://www.amazon.com/Cards-Against-Humanity-LLC-CAHUS/dp/B004S8F7QM/ Cards Against Humanity $25.00\n",
            "https://www.amazon.com/Kids-Against-Maturity-Original-Humanity/dp/B076PRWVFG/ Kids Against Maturity: Card Game for Kids and Families, Super Fun Hilarious for Family Party Game Night $29.99\n",
            "https://www.amazon.com/Mattel-Games-Official-Amazon-Exclusive/dp/B07P6MZPK3/ Mattel Games UNO $9.99\n",
            "https://www.amazon.com/Flybar-Jumper-Toddlers-Durable-Supports/dp/B00WTDXSDM/ Flybar My First Foam Pogo Jumper for Kids Fun and Safe Pogo Stick for Toddlers, Durable Foam and Bungee Jumper for Ages 3 and up, Supports up to 250lbs $16.99\n",
            "https://www.amazon.com/Fisher-Price-Rattle-Rock-Maracas-Orange/dp/B071FLSWBS/ Fisher-Price Rattle 'n Rock Maracas, Blue/Orange [Amazon Exclusive] $6.99\n",
            "https://www.amazon.com/Fidget-Sensory-Anti-Anxiety-Squeeze-Soybean/dp/B07F7KJNKK/ None None\n",
            "https://www.amazon.com/TeeTurtle-Reversible-Octopus-Mini-Plush/dp/B07H4YQF3Q/ The Original Reversible Octopus Plushie | TeeTurtle’s Patented Design | Black and Gray | Show your mood without saying a word! $15.00\n",
            "https://www.amazon.com/Beat-That-Bonkers-Battle-Challenges/dp/B07Z5BRRF7/ Beat That! - The Bonkers Battle of Wacky Challenges [Family Party Game for Kids & Adults] $24.99\n",
            "https://www.amazon.com/Jenga-A2120EU4-Classic-Game/dp/B00ABA0ZOA/ Jenga Classic Game $12.88\n",
            "https://www.amazon.com/SunWorks-Construction-Paper-Black-Sheets/dp/B002LARR7Q/ SunWorks Heavyweight Construction Paper, 9 x 12 Inches, Black, 100 Sheets $2.84\n",
            "https://www.amazon.com/Just-Smarty-Interactive-Educational-Kindergarten/dp/B074PYYM51/ Just Smarty Electronic Interactive Alphabet Wall Chart, Talking ABC & 123s & Music Poster, Best Educational Toy for Toddler. Kids Fun Learning at Daycare, Preschool, Kindergarten for Boys & Girls $24.99\n",
            "https://www.amazon.com/BunMo-Sensory-Autistic-Children-Fidgets/dp/B088SZ9SPH/ BunMo XL Pop Tubes Sensory Toys for Autistic Children and Fidgets for Kids, ADHD Toys for Kids and Autism Toys for Boys and Girls $14.49\n",
            "https://www.amazon.com/Play-Doh-Pack-Case-Blue/dp/B07BC152DC/ Play-Doh Bulk 12-Pack of Blue Non-Toxic Modeling Compound, 4-Ounce Cans $10.99\n",
            "https://www.amazon.com/Play-Doh-Modeling-Compound-Non-Toxic-Exclusive/dp/B00JM5GW10/ Play-Doh Modeling Compound 10 Pack Case of Colors, Non-Toxic, Assorted Colors, 2 Oz Cans, Ages 2 & Up, (Amazon Exclusive), Multicolor $8.19\n",
            "https://www.amazon.com/Ontel-Belly-Stuffed-Animal-Cuddly/dp/B089F6DW36/ Ontel Star Belly Dream Lites, Stuffed Animal Night Light, Cuddly Blue Puppy $29.99\n",
            "https://www.amazon.com/ialnal-Translucent-Classroom-Accessories-Multicolor/dp/B07K75LCBJ/ 50-Pack 14MM Translucent & Solid 6-Sided Game Dice 5 Sets of Vintage Colors Dice for Board Games and Teaching Math Dice Set Classroom Accessories dice Set RPG dice $7.99\n",
            "https://www.amazon.com/Play-Doh-Party-Bag-Dough-Count/dp/B0037710BG/ Play-Doh Handout Non-Toxic Modeling Compound 15 1 oz cans - Stocking stuffer $4.99\n",
            "https://www.amazon.com/ThinkFun-Zingo-Winning-Pre-Readers-Readers/dp/B01DY818JG/ ThinkFun Zingo Bingo Award Winning Preschool Game for Pre-Readers and Early Readers Age 4 and Up - One of the Most Popular Board Games for Boys and Girls and their Parents, Amazon Exclusive Version $19.99\n",
            "https://www.amazon.com/Disney-51394-Ariel-Necklace-Set/dp/B00BTX5926/ Tara Toys Ariel Necklace Activity Set - Amazon Exclusive (51394) $12.99\n",
            "https://www.amazon.com/Buffalo-Games-Darrell-Signature-Collection/dp/B084GF5914/ Buffalo Games - Darrell Bush - Canoe Lake - 1000 Piece Jigsaw Puzzle & Signature Collection - Cinque Terre - 1000 Piece Jigsaw Puzzle $20.94\n",
            "https://www.amazon.com/Lil-Gen-Dinosaur-Girls-Years/dp/B07J65C9B5/ None None\n",
            "https://www.amazon.com/LEGO-Classic-Medium-Creative-Brick/dp/B00NHQFA1I/ LEGO Classic Medium Creative Brick Box 10696 Building Toys for Creative Play; Kids Creative Kit (484 Pieces) $26.49\n",
            "https://www.amazon.com/VTech-Sit-to-Stand-Learning-Walker-Blue/dp/B07CRSXMW8/ VTech Sit-To-Stand Learning Walker (Frustration Free Packaging), Blue $34.99\n",
            "https://www.amazon.com/Sensory-Set-Liquid-Stretchy-Autistic-Anti-stress/dp/B07YJF17C9/ 24 Pack Bundle Sensory Fidget Toys Set-Liquid Motion Timer/Grape Ball/Mochi Squishy/Stretchy String/Flippy Chain/Easter Egg/Marble Mesh/Squeeze Bean/Cube for Autistic Kids, ADHD, Anti-Stress Toys $26.99\n",
            "https://www.amazon.com/Taco-Cat-Goat-Cheese-Pizza/dp/B077Z1R28P/ Taco Cat Goat Cheese Pizza $9.99\n",
            "https://www.amazon.com/Crayola-Different-Colored-Pencils-Coloring/dp/B019592CL6/ Crayola Colored Pencils Adult Coloring Set, Gift, 100 Count $13.45\n",
            "https://www.amazon.com/Crayola-Light-Up-Tracing-Coloring-Amazon/dp/B07P6RFKRL/ Crayola Light Up Tracing Pad Teal, Amazon Exclusive, Kids Toys, Ages 6, 7, 8, 9, 10 $24.99\n",
            "https://www.amazon.com/Hasbro-Gaming-C1009-Monopoly-Classic/dp/B01MU9K3XU/ Monopoly Classic Game $19.82\n",
            "https://www.amazon.com/LEGO-Adventures-Building-Interactive-Featuring/dp/B085878WLK/ LEGO Super Mario Adventures with Mario Starter Course 71360 Building Kit, Interactive Set Featuring Mario, Bowser Jr. and Goomba Figures, New 2020 (231 Pieces) $59.95\n",
            "https://www.amazon.com/Nuby-Floating-Purple-Octopus-Interactive/dp/B083ZZSGLR/ Nuby Floating Purple Octopus with 3 Hoopla Rings Interactive Bath Toy $6.89\n",
            "https://www.amazon.com/Funko-Pop-Customizable-Exclusive-Collectible/dp/B08B77Q738/ Funko Pop! TV: The Office - Customizable Chrome Dundie Award, Amazon Exclusive Collectible Vinyl Figure (52077) $12.99\n",
            "https://www.amazon.com/Exploding-Kittens-LLC-EKG-ORG1-1-Card/dp/B010TQY7A8/ Exploding Kittens Card Game - Family-Friendly Party Games - Card Games for Adults, Teens & Kids $19.99\n",
            "https://www.amazon.com/Relieves-Children-Assortment-Birthday-Classroom/dp/B07F81VDL2/ None None\n",
            "https://www.amazon.com/ThinkFun-Gravity-Marble-Logic-Girls/dp/B00IUAAK2A/ ThinkFun Gravity Maze Marble Run Brain Game and STEM Toy for Boys and Girls Age 8 and Up – Toy of the Year Award Winner $29.93\n",
            "https://www.amazon.com/LeapFrog-Animals-Book-Frustration-Packaging/dp/B085KTB1WY/ LeapFrog 100 Animals Book (Frustration Free Packaging), Pink $17.99\n",
            "https://www.amazon.com/Crayola-Colored-Pre-sharpened-Coloring-Stocking/dp/B018HB2QFU/ Crayola Colored Pencils, Adult Coloring, Fun At Home Activities, 50 Count, Multicolor $10.99\n",
            "https://www.amazon.com/TeeTurtle-Unstable-Unicorns-Adventure-Expansion/dp/B085JSJPMF/ TeeTurtle Unstable Unicorns Adventures Expansion Pack - Designed to be Added to Your Unstable Unicorns Card Game (TEE4893UUEXP1) $15.00\n",
            "https://www.amazon.com/First-Years-Stack-Up-Cups/dp/B00005C5H4/ The First Years Stack Up Cup Toys $4.99\n",
            "https://www.amazon.com/Learning-Resources-Recordable-Answer-Buzzers/dp/B00HT5HBMO/ Learning Resources Recordable Answer Buzzers, Personalized Sound Buzzers, Talking Button, Set of 4, Ages 3+ $19.99\n",
            "https://www.amazon.com/Magnifying-Illuminated-Magnifier-Degeneration-Inspection/dp/B07G55FSPX/ Magnifying Glass with Light, 30X Handheld Large Magnifying Glass 12 LED Illuminated Lighted Magnifier for Macular Degeneration, Seniors Reading, Soldering, Inspection, Coins, Jewelry, Exploring(Black) $16.99\n",
            "https://www.amazon.com/Crayola-Ultra-Clean-Washable-Non-Toxic-Classrooms/dp/B013RQPB5C/ Crayola Ultra Clean Washable Markers, Kids Indoor Activities At Home, Broad Line, 40 Classic Colors $12.22\n",
            "https://www.amazon.com/Puzzle-Presto-Peel-Stick-Saver/dp/B00E67F3WI/ Puzzle Presto! Peel & Stick Puzzle Saver: The Original and Still the Best Way to Preserve Your Finished Puzzle! $8.80\n",
            "https://www.amazon.com/VTech-Pull-and-Sing-Puppy/dp/B01MQ3YP7Y/ VTech Pull and Sing Puppy $12.85\n",
            "https://www.amazon.com/Amerous-Inches-Magnetic-Wooden-Chess/dp/B07N5ZS5QP/ Amerous 15 Inches Magnetic Wooden Chess Set - 2 Extra Queens - Folding Board, Handmade Portable Travel Chess Board Game Sets with Game Pieces Storage Slots - Beginner Chess Set for Kids and Adults $43.99\n",
            "https://www.amazon.com/Bubble-Sensory-Special-Reliever-Squeeze/dp/B08LB3HB31/ Push pop pop Bubble Sensory Fidget Toy Autism Special Needs Stress Reliever, Squeeze Sensory Toy Great for The Old and The Young (Green) $6.00\n",
            "https://www.amazon.com/Hasbro-A5640-Connect-4-Game/dp/B00D8STBHY/ Hasbro Connect 4 Game $9.84\n",
            "https://www.amazon.com/Selieve-Talkies-Channels-Backlit-Flashlight/dp/B07PZCQLJY/ Selieve Toys for 3-12 Year Old Boys Girls, Walkie Talkies for Kids 22 Channels 2 Way Radio Toy with Backlit LCD Flashlight, 3 Miles Range for Outside, Camping, Hiking $23.99\n",
            "https://www.amazon.com/Jax-8002-Sequence-Game/dp/B00000IVAK/ SEQUENCE- Original SEQUENCE Game with Folding Board, Cards and Chips by Jax ( Packaging may Vary ) $12.59\n",
            "https://www.amazon.com/All-New-Echo-4th-Gen/dp/B07XKF5RM3/ All-new Echo (4th Gen) | With premium sound, smart home hub, and Alexa | Charcoal $99.99\n",
            "https://www.amazon.com/Roku-Premiere-HDR-Streaming-Player-Premium/dp/B07HDBZN7Q/ Roku Premiere | HD/4K/HDR Streaming Media Player, Simple Remote and Premium HDMI Cable $37.49\n",
            "https://www.amazon.com/Blink-Mini-plug-security-detection/dp/B07X6C9RMF/ Blink Mini – Compact indoor plug-in smart security camera, 1080 HD video, night vision, motion detection, two-way audio, Works with Alexa – 1 camera $34.99\n",
            "https://www.amazon.com/OHill-Organizer-Management-Organizing-Adhesive/dp/B071FXZBMV/ OHill Cable Clips, 16 Pack Black Cord Organizer Cable Management for Organizing Cable Cords Home and Office, Self Adhesive Cord Holders $7.99\n",
            "https://www.amazon.com/Nintendo-Joy-Neon-Red-Blue-switch/dp/B01N6QJ58Y/ None None\n",
            "https://www.amazon.com/Blink-Outdoor-Wireless-Security-Camera/dp/B086DKSYTS/ All-new Blink Outdoor – wireless, weather-resistant HD security camera with two-year battery life and motion detection – 1 camera kit $99.99\n",
            "https://www.amazon.com/Ring-Rechargeable-Battery-Pack/dp/B076JKHDQT/ Ring Rechargeable Battery Pack $29.99\n",
            "https://www.amazon.com/HP-24mh-FHD-Monitor-Built/dp/B08BF4CZSV/ HP 24mh FHD Monitor - Computer Monitor with 23.8-Inch IPS Display (1080p) - Built-In Speakers and VESA Mounting - Height/Tilt Adjustment for Ergonomic Viewing - HDMI and DisplayPort - (1D0J9AA#ABA) $109.99\n",
            "https://www.amazon.com/Nintendo-Joy-Neon-Red-Blue-switch/dp/B01N6QJ58Y/ None None\n",
            "https://www.amazon.com/Roku-Streaming-Stick-HDR-Streaming-Long-range/dp/B075XLWML4/ Roku Streaming Stick+ | HD/4K/HDR Streaming Device with Long-range Wireless and Voice Remote with TV Controls $48.81\n",
            "https://www.amazon.com/Acer-Display-Graphics-Keyboard-A515-43-R19L/dp/B07RF1XD36/ Acer Aspire 5 Slim Laptop, 15.6 inches Full HD IPS Display, AMD Ryzen 3 3200U, Vega 3 Graphics, 4GB DDR4, 128GB SSD, Backlit Keyboard, Windows 10 in S Mode, A515-43-R19L, Silver $426.00\n",
            "https://www.amazon.com/TCL-32-720p-ROKU-Smart/dp/B088S3V3R4/ TCL 32\" 3-Series 720p ROKU Smart TV - 32S335 $128.00\n",
            "https://www.amazon.com/GE-Outlet-Protector-Extension-14092/dp/B00DOMYL24/ GE 6 Outlet Surge Protector, 10 Ft Extension Cord, Power Strip, 800 Joules, Flat Plug, Twist-to-Close Safety Covers, White, 14092 $13.86\n",
            "https://www.amazon.com/Apple-iPad-10-2-inch-Wi-Fi-32GB/dp/B08J65DST5/ New Apple iPad (10.2-inch, Wi-Fi, 32GB) - Space Gray (Latest Model, 8th Generation) $319.99\n",
            "https://www.amazon.com/Echo-Show-8/dp/B07PF1Y28C/ None None\n",
            "https://www.amazon.com/Kindle-Paperwhite-Waterproof-Unlimited-auto-renewal/dp/B07PP49ZDW/ Kindle Paperwhite – Now Waterproof with more than 2x the Storage – Ad-Supported + Kindle Unlimited (with auto-renewal) $159.99\n",
            "https://www.amazon.com/All-New-Echo-Dot-4th-Gen/dp/B07XJ8C8F7/ None None\n",
            "https://www.amazon.com/Apple-Watch-GPS-38mm-Space-Aluminium/dp/B07K39FRSL/ Apple Watch Series 3 (GPS, 38mm) - Space Gray Aluminium Case with Black Sport Band $169.00\n",
            "https://www.amazon.com/Apple-Watch-GPS-38mm-Silver-Aluminium/dp/B07K37HKT8/ Apple Watch Series 3 (GPS, 38mm) - Silver Aluminum Case with White Sport Band $169.00\n",
            "https://www.amazon.com/Roku-Streaming-Bluetooth-Headphone-Shortcuts/dp/B08G9TJWW9/ Roku Ultra 2020 | Streaming Media Player HD/4K/HDR/Dolby Vision with Dolby Atmos, Bluetooth Streaming, and Roku Voice Remote with Headphone Jack and Personal Shortcuts, includes Premium HDMI Cable $91.63\n",
            "https://www.amazon.com/Anker-PowerPort-Overload-Protection-Ultra-Compact/dp/B07D25RSWX/ Anker PowerPort Cube USB Power Strip with 3 Outlets and 3 USB Ports, Portable Design, 5 ft Extension Cord, Overload Protection for iPhone XS/XR, Compact for Travel, Cruise Ship and Office $18.99\n",
            "https://www.amazon.com/Fire-Tablet-7/dp/B07FKR6KXF/ Fire 7 tablet (7\" display, 16 GB) - Black $49.99\n",
            "https://www.amazon.com/Introducing-Echo-Show-Compact-Charcoal/dp/B07HZLHPKP/ None None\n",
            "https://www.amazon.com/Fire-HD-8-tablet/dp/B07TMJ1R3X/ Fire HD 8 tablet, 8\" HD display, 32 GB, designed for portable entertainment, Black $89.99\n",
            "https://www.amazon.com/Nintendo-Switch-Pro-Controller/dp/B01NAWKYZ0/ None None\n",
            "https://www.amazon.com/Wyze-1080p-Indoor-Camera-Vision/dp/B07DGR98VQ/ Wyze Cam Pan 1080p Pan/Tilt/Zoom Wi-Fi Indoor Smart Home Camera with Night Vision, 2-Way Audio, Works with Alexa & the Google Assistant, White - WYZECP1 $37.98\n",
            "https://www.amazon.com/Fire-TV-Stick-4K-with-Alexa-Voice-Remote/dp/B079QHML21/ Fire TV Stick 4K streaming device with Alexa Voice Remote | Dolby Vision | 2018 release $49.99\n",
            "https://www.amazon.com/Fire-7-Kids-Edition-Tablet/dp/B07H8WS1FT/ Fire 7 Kids Edition Tablet, 7\" Display, 16 GB, Blue Kid-Proof Case $99.99\n",
            "https://www.amazon.com/Sabrent-4-Port-Individual-Switches-HB-UMLS/dp/B00BWF5U0M/ None None\n",
            "https://www.amazon.com/amFilm-Tempered-Screen-Protector-Nintendo-Switch/dp/B01N3ASPNV/ amFilm Tempered Glass Screen Protector for Nintendo Switch 2017 (2-Pack) $7.99\n",
            "https://www.amazon.com/TESSAN-Mountable-Extension-Outlets-Lightweight/dp/B07ZRDGF6Y/ None None\n",
            "https://www.amazon.com/TP-Link-AC1750-Smart-WiFi-Router/dp/B079JD7F7G/ None None\n",
            "https://www.amazon.com/Staging-Product-Not-Retail-Sale/dp/B084J4MJCK/ All-new Echo Dot (4th Gen) Kids Edition | Designed for kids, with parental controls | Panda $39.99\n",
            "https://www.amazon.com/Fitbit-Fitness-Smartwatch-Tracking-Included/dp/B07TWFVDWT/ Fitbit Versa 2 Health and Fitness Smartwatch with Heart Rate, Music, Alexa Built-In, Sleep and Swim Tracking, Black/Carbon, One Size (S and L Bands Included) $148.95\n",
            "https://www.amazon.com/Fire-HD-8-Kids-Edition-tablet/dp/B07WDDT3G5/ Fire HD 8 Kids Edition tablet, 8\" HD display, 32 GB, Blue Kid-Proof Case $139.99\n",
            "https://www.amazon.com/Roku-Express-Streaming-Media-Player/dp/B07WVFCVJN/ Roku Express | HD Streaming Media Player with High Speed HDMI Cable and Simple Remote $28.88\n",
            "https://www.amazon.com/Anker-PowerExtend-Outlets-Extension-Safety/dp/B083XRJXSD/ None None\n",
            "https://www.amazon.com/Wyze-Indoor-Wireless-Detection-Assistant/dp/B076H3SRXG/ Wyze Cam 1080p HD Indoor WiFi Smart Home Camera with Night Vision, 2-Way Audio, Works with Alexa & the Google Assistant, White, 1-Pack $25.98\n",
            "https://www.amazon.com/Raceway-Management-Channel-Paintable-Concealer/dp/B07GPFDL1K/ None None\n",
            "https://www.amazon.com/Protector-POWRUI-6-Outlet-Extender-Charging/dp/B07CCGBB7M/ USB Wall Charger, Surge Protector, POWRUI 6-Outlet Extender with 2 USB Charging Ports (2.4A Total) and Night Light, 3-Sided Power Strip with Adapter Spaced Outlets - White，ETL Listed $19.97\n",
            "https://www.amazon.com/Echo-Auto-Add-Alexa-your/dp/B07VTK654B/ Echo Auto- Hands-free Alexa in your car with your phone $49.99\n",
            "https://www.amazon.com/Acer-SB220Q-Ultra-Thin-Frame-Monitor/dp/B07CVL2D2S/ Acer SB220Q bi 21.5 Inches Full HD (1920 x 1080) IPS Ultra-Thin Zero Frame Monitor (HDMI & VGA Port), Black $93.99\n",
            "https://www.amazon.com/Nintendo-Switch-Pro-Controller/dp/B01NAWKYZ0/ None None\n",
            "https://www.amazon.com/Protector-Transparent-Anti-Scratch-Compatible-Replacement-3ds/dp/B0795GHTBC/ [3 Pack] Screen Protector Tempered Glass for Nintendo Switch, iVoler Transparent HD Clear Anti-Scratch Screen Protector Compatible Nintendo Switch $7.95\n",
            "https://www.amazon.com/New-Apple-Watch-SE-44mm/dp/B08J5XTRZD/ New Apple Watch SE (GPS, 44mm) - Space Gray Aluminum Case with Black Sport Band $269.98\n",
            "https://www.amazon.com/Willful-Compatible-Swimming-Waterproof-Smartwatch/dp/B07YWRXVP6/ None None\n",
            "https://www.amazon.com/All-New-Echo-Dot-4th-Gen/dp/B07XJ8C8F5/ None None\n",
            "https://www.amazon.com/Bototek-Protector-Charging-Extension-Smartphone/dp/B07MVZZV3G/ Power Strip, Bototek Surge Protector with 10 AC Outlets and 4 USB Charging Ports,1875W/15A, 2100 Joules, 6 Feet Long Extension Cord for Smartphone Tablets Home,Office, Hotel- Black $26.99\n",
            "https://www.amazon.com/FosPower-Emergency-Portable-Household-Flashlight/dp/B07FKYHTWP/ FosPower Emergency Solar Hand Crank Portable Radio, NOAA Weather Radio for Household and Outdoor Emergency with AM/FM, LED Flashlight, Reading Lamp, 2000mAh Power Bank USB Charger and SOS Alarm $33.99\n",
            "https://www.amazon.com/amFilm-Tempered-Screen-Protector-Nintendo-Switch/dp/B01N3ASPNV/ amFilm Tempered Glass Screen Protector for Nintendo Switch 2017 (2-Pack) $7.99\n",
            "https://www.amazon.com/Nintendo-Switch-AC-Adapter/dp/B01N7RUZ49/ Nintendo Switch AC Adapter $26.88\n",
            "https://www.amazon.com/Robux-Roblox-Online-Game-Code/dp/B07RX6FBFR/ Roblox Gift Card - 2000 Robux [Includes Exclusive Virtual Item] [Online Game Code] $25.00\n",
            "https://www.amazon.com/BEBONCOOL-Battery-2200mAh-Rechargeable-Controller/dp/B07F15CV12/ None None\n",
            "https://www.amazon.com/Apex-Legends-Coins-Online-Game/dp/B07NPMZPZQ/ Apex Legends - 1,000 Apex Coins [Online Game Code] $9.99\n",
            "https://www.amazon.com/Xbox-Gift-Card-Digital-Code/dp/B00F4CEHNK/ $10 Xbox Gift Card [Digital Code] $10.00\n",
            "https://www.amazon.com/Nintendo-eShop-Gift-Card-Digital/dp/B01LZNGPY3/ $10 Nintendo eShop Gift Card [Digital Code] $10.00\n",
            "https://www.amazon.com/Super-Mario-3D-All-Stars-Nintendo-Switch/dp/B08G3MN6KP/ None None\n",
            "https://www.amazon.com/Turtle-Beach-compatible-controller-playstation-4/dp/B00YXO5U40/ Turtle Beach Ear Force Recon 50X Stereo Gaming Headset for Xbox One & Xbox Series X|S (compatible w/ Xbox controller w/ 3.5mm Headset Jack) PlayStation 5 & PS4 $24.95\n",
            "https://www.amazon.com/Nintendo-Neon-Purple-Orange-Joy-L-R/dp/B07VHR4Y8G/ None None\n",
            "https://www.amazon.com/SanDisk-MicroSDXC-Nintendo-Switch-SDSQXAO-128G-GNCZN/dp/B07KXQX3S3/ SanDisk 128GB microSDXC UHS-I-Memory-Card for Nintendo-Switch - SDSQXAO-128G-GNCZN, Red $26.40\n",
            "https://www.amazon.com/DualShock-Wireless-Controller-PlayStation-Gold-4/dp/B071RSSMLL/ DualShock 4 Wireless Controller for PlayStation 4 - Gold $64.99\n",
            "https://www.amazon.com/Hyrule-Warriors-Age-Calamity-Nintendo-Switch/dp/B08HP4K7KC/ None None\n",
            "https://www.amazon.com/PlayStation-Store-Gift-Card-Digital/dp/B00GAC1D2G/ $10 PlayStation Store Gift Card [Digital Code] $10.00\n",
            "https://www.amazon.com/Logitech-G502-Performance-Gaming-Mouse/dp/B07GBZ4Q68/ Logitech G502 Hero High Performance Gaming Mouse $39.99\n",
            "https://www.amazon.com/Protector-Transparent-Anti-Scratch-Compatible-Replacement-3ds/dp/B0795GHTBC/ [3 Pack] Screen Protector Tempered Glass for Nintendo Switch, iVoler Transparent HD Clear Anti-Scratch Screen Protector Compatible Nintendo Switch $7.95\n",
            "https://www.amazon.com/Nintendo-Neon-Purple-Orange-Joy-L-R/dp/B07VHR4Y8G/ None None\n",
            "https://www.amazon.com/Nintendo-Joy-Neon-Pink-Green-switch/dp/B078GZM4H8/ Nintendo Joy-Con (L/R) - Neon Pink / Neon Green $79.99\n",
            "https://www.amazon.com/PlayStation-Plus-Month-Membership-Digital/dp/B017V6YVDC/ PlayStation Plus: 1 Month Membership [Digital Code] $9.99\n",
            "https://www.amazon.com/SanDisk-MicroSDXC-Memory-Nintendo-Switch/dp/B07QD6R5L7/ SanDisk 256GB microSDXC UHS-I-Memory-Card for Nintendo-Switch - SDSQXAO-256G-GNCZN $50.71\n",
            "https://www.amazon.com/Xbox-Live-Gold-Membership-Digital/dp/B002VBWIP6/ Xbox Live Gold: 12 Month Membership [Digital Code] $59.99\n",
            "https://www.amazon.com/Legend-Zelda-Breath-Wild-Nintendo-Switch/dp/B01MS6MO77/ The Legend of Zelda: Breath of the Wild - Nintendo Switch $49.94\n",
            "https://www.amazon.com/Collective-Dominator-Controller-Adapter-playstation-4/dp/B01L8QHXJA/ Collective Minds Strike Pack F.P.S. Dominator Controller Adapter with MODS & Paddles for PS4 $37.74\n",
            "https://www.amazon.com/Nintendo-Joy-Neon-Red-Blue-switch/dp/B01N6QJ58Y/ None None\n",
            "https://www.amazon.com/Super-Smash-Bros-Ultimate-Nintendo-Switch/dp/B01N5OKGLH/ None None\n",
            "https://www.amazon.com/Redragon-S101-Keyboard-Ergonomic-Programmable/dp/B00NLZUM36/ Redragon S101 Wired Gaming Keyboard and Mouse Combo RGB Backlit Gaming Keyboard with Multimedia Keys Wrist Rest and Red Backlit Gaming Mouse 3200 DPI for Windows PC Gamers (Black) $39.99\n",
            "https://www.amazon.com/BEBONCOOL-Controller-DualShock-Playstation-PlayStation4/dp/B071WNWHZ7/ None None\n",
            "https://www.amazon.com/Super-Mario-Party-Nintendo-Switch/dp/B07DJY81FP/ Super Mario Party $49.94\n",
            "https://www.amazon.com/Just-Dance-2021-Nintendo-Switch-Standard/dp/B08BRQKSMB/ Just Dance 2021 - Nintendo Switch Standard Edition $29.83\n",
            "https://www.amazon.com/DualSense-Wireless-Controller-PlayStation-5/dp/B08FC6C75Y/ DualSense Wireless Controller $69.98\n",
            "https://www.amazon.com/Xbox-Gift-Card-Digital-Code/dp/B00F4CEWOY/ $20 Xbox Gift Card [Digital Code] $20.00\n",
            "https://www.amazon.com/Super-Smash-Bros-Ultimate-Nintendo-Switch/dp/B01N5OKGLH/ None None\n",
            "https://www.amazon.com/Ring-Fit-Adventure-Nintendo-Switch/dp/B07XV4NHHN/ None None\n",
            "https://www.amazon.com/Super-Mario-3D-All-Stars-Nintendo-Switch/dp/B08G3MN6KP/ None None\n",
            "https://www.amazon.com/Hyrule-Warriors-Age-Calamity-Nintendo-Switch/dp/B08HP4K7KC/ None None\n",
            "https://www.amazon.com/BENGOO-G9000-Controller-Cancelling-Headphones/dp/B01H6GUCCQ/ BENGOO G9000 Stereo Gaming Headset for PS4 PC Xbox One PS5 Controller, Noise Cancelling Over Ear Headphones with Mic, LED Light, Bass Surround, Soft Memory Earmuffs for Laptop Mac Nintendo NES Games $25.99\n",
            "https://www.amazon.com/Nintendo-Joy-L-R-Gray-switch/dp/B01N6QKT7H/ Nintendo Joy-Con (L/R) - Gray $79.99\n",
            "https://www.amazon.com/Robux-Roblox-Online-Game-Code/dp/B07RZ75JW3/ Roblox Gift Card - 4500 Robux [Includes Exclusive Virtual Item] [Online Game Code] $50.00\n",
            "https://www.amazon.com/PlayStation-4-Slim-1TB-Console/dp/B071CV8CG2/ PlayStation 4 Slim 1TB Console $299.99\n",
            "https://www.amazon.com/Nintendo-Switch-Split-Ergonomic-Controller-Handheld/dp/B08FJ7XY3B/ Hori Nintendo Switch Split Pad Pro (Black) Ergonomic Controller for Handheld Mode - Officially Licensed By Nintendo - Nintendo Switch $40.00\n",
            "https://www.amazon.com/PlayStation-Plus-Month-Membership-Digital/dp/B004RMK5QG/ PlayStation Plus: 12 Month Membership [Digital Code] $59.96\n",
            "https://www.amazon.com/RUNMUS-Surround-Canceling-Compatible-Controller/dp/B07GRM747Y/ None None\n",
            "https://www.amazon.com/Robux-Roblox-Online-Game-Code/dp/B07RZ74VLR/ Roblox Gift Card - 800 Robux [Includes Exclusive Virtual Item] [Online Game Code] $10.00\n",
            "https://www.amazon.com/Xbox-Live-Gold-Membership-Digital/dp/B004VSTQ2A/ Xbox Live Gold: 3 Month Membership [Digital Code] $24.99\n",
            "https://www.amazon.com/Marvels-Spider-Man-Miles-Morales-Launch-PlayStation/dp/B08JHVG9ZJ/ Marvel's Spider-Man: Miles Morales Launch Edition - PlayStation 4 $49.88\n",
            "https://www.amazon.com/RUNMUS-Nintendo-Headphones-Canceling-Microphone/dp/B07DPG774K/ None None\n",
            "https://www.amazon.com/PlayStation-Store-Gift-Card-Digital/dp/B00K59HKIQ/ $100 PlayStation Store Gift Card [Digital Code] $100.00\n",
            "https://www.amazon.com/PowerA-USB-Charging-Cable-PlayStation-4/dp/B00HUXPZPK/ PowerA USB Charging Cable for PlayStation 4 $6.99\n",
            "https://www.amazon.com/Nintendo-Switch-12-Month-Individual-Membership/dp/B07FV64QLX/ Nintendo Switch Online 12-Month Individual Membership [Digital Code] $19.99\n",
            "https://www.amazon.com/Nintendo-Joy-Neon-Red-Blue-switch/dp/B01N6QJ58Y/ None None\n",
            "https://www.amazon.com/Nintendo-Switch-Pro-Controller/dp/B01NAWKYZ0/ None None\n",
            "https://www.amazon.com/DualShock-Wireless-Controller-PlayStation-Black-4/dp/B01LWVX2RG/ DualShock 4 Wireless Controller for PlayStation 4 - Jet Black $59.65\n",
            "https://www.amazon.com/Minecraft-Mac-Online-Game-Code/dp/B010KYDNDG/ Minecraft: Java Edition for PC/Mac [Online Game Code] $26.95\n",
            "https://www.amazon.com/Ring-Fit-Adventure-Nintendo-Switch/dp/B07XV4NHHN/ None None\n",
            "https://www.amazon.com/Nintendo-Switch-Pro-Controller/dp/B01NAWKYZ0/ None None\n",
            "https://www.amazon.com/Katie-Daisy-2020-Go-17-Month/dp/1631367129/ None None\n",
            "https://www.amazon.com/Body-Keeps-Score-Healing-Trauma/dp/0143127748/ None None\n",
            "https://www.amazon.com/Star-Wars-Light-Jedi-Republic/dp/0593157710/ None None\n",
            "https://www.amazon.com/Burn-After-Writing-Sharon-Jones/dp/0593329910/ None None\n",
            "https://www.amazon.com/Think-Like-Monk-Train-Purpose/dp/1982134488/ None None\n",
            "https://www.amazon.com/Magnolia-Table-Collection-Recipes-Gathering/dp/006282015X/ None None\n",
            "https://www.amazon.com/Tyranny-Twenty-Lessons-Twentieth-Century/dp/0804190119/ None None\n",
            "https://www.amazon.com/Promised-Land-Barack-Obama/dp/1524763160/ None None\n",
            "https://www.amazon.com/I-Love-You-Moon-Back/dp/1589255518/ None None\n",
            "https://www.amazon.com/Untamed-Glennon-Doyle-Melton/dp/1984801252/ None None\n",
            "https://www.amazon.com/Twilight-Democracy-Seductive-Lure-Authoritarianism/dp/0385545800/ None None\n",
            "https://www.amazon.com/Good-Days-Start-Gratitude-Cultivate/dp/1976436184/ None None\n",
            "https://www.amazon.com/Prayer-Journal-Women-Scripture-Devotional/dp/1941325823/ None None\n",
            "https://www.amazon.com/Greenlights-Matthew-McConaughey/dp/0593139135/ None None\n",
            "https://www.amazon.com/Rich-Dad-Poor-Teach-Middle/dp/1612680194/ None None\n",
            "https://www.amazon.com/Keep-Sharp-Build-Better-Brain/dp/1501166735/ None None\n",
            "https://www.amazon.com/Bronco-Friends-Remember-Tim-Tebow/dp/0593232046/ None None\n",
            "https://www.amazon.com/Intelligent-Investor-Definitive-Investing-Essentials/dp/0060555661/ None None\n",
            "https://www.amazon.com/Push-Novel-Ashley-Audrain/dp/1984881663/ None None\n",
            "https://www.amazon.com/Step-Step-Instant-Pot-Cookbook/dp/0316460834/ None None\n",
            "https://www.amazon.com/Complete-Mediterranean-Cookbook-Vibrant-Kitchen-Tested/dp/1940352649/ None None\n",
            "https://www.amazon.com/1984-Signet-Classics-George-Orwell/dp/0451524934/ None None\n",
            "https://www.amazon.com/Plant-Over-Processed-Plant-Based-Nourishing/dp/0062986511/ None None\n",
            "https://www.amazon.com/Vanishing-Half-Novel-Brit-Bennett/dp/0525536299/ None None\n",
            "https://www.amazon.com/Forgiving-What-You-Cant-Forget/dp/0718039874/ None None\n",
            "https://www.amazon.com/Animal-Farm-George-Orwell/dp/0451526341/ None None\n",
            "https://www.amazon.com/Kill-Mockingbird-Harper-Lee/dp/0060935464/ None None\n",
            "https://www.amazon.com/2021-Legacy-Bader-Ginsburg-Calendar/dp/1728244986/ None None\n",
            "https://www.amazon.com/Quit-Like-Woman-Radical-Obsessed/dp/1984825070/ None None\n",
            "https://www.amazon.com/If-Animals-Kissed-Good-Night/dp/0374300216/ None None\n",
            "https://www.amazon.com/Publication-Manual-American-Psychological-Association/dp/143383216X/ None None\n",
            "https://www.amazon.com/Midnight-Library-Novel-Matt-Haig/dp/0525559477/ None None\n",
            "https://www.amazon.com/Chakra-Healing-Beginners-Self-Healing-Techniques/dp/1623158281/ None None\n",
            "https://www.amazon.com/Becoming-Michelle-Obama/dp/1524763136/ None None\n",
            "https://www.amazon.com/Very-Hungry-Caterpillar-Eric-Carle/dp/0399226907/ None None\n",
            "https://www.amazon.com/Love-Languages-Secret-that-Lasts/dp/080241270X/ None None\n",
            "https://www.amazon.com/Boy-Mole-Fox-Horse/dp/0062976583/ None None\n",
            "https://www.amazon.com/Little-Trucks-Valentine-Alice-Schertle/dp/0358272440/ None None\n",
            "https://www.amazon.com/Skinnytaste-Air-Fryer-Cookbook-Healthy/dp/198482564X/ None None\n",
            "https://www.amazon.com/My-First-Learn-Write-Workbook/dp/1641526270/ None None\n",
            "https://www.amazon.com/Air-Fryer-Cookbook-Effortless-Beginners/dp/1674844468/ None None\n",
            "https://www.amazon.com/Be-Here-Now-Ram-Dass/dp/0517543052/ None None\n",
            "https://www.amazon.com/We-Were-Liars-Lockhart/dp/0385741278/ None None\n",
            "https://www.amazon.com/Where-Crawdads-Sing-Delia-Owens/dp/0735219095/ None None\n",
            "https://www.amazon.com/Atomic-Habits-Proven-Build-Break/dp/0735211299/ None None\n",
            "https://www.amazon.com/Magnolia-Table-Collection-Recipes-Gathering/dp/0062820184/ None None\n",
            "https://www.amazon.com/Four-Agreements-Practical-Personal-Freedom/dp/1878424319/ None None\n",
            "https://www.amazon.com/Let-That-Sh-Go-Creating/dp/1250181909/ None None\n",
            "https://www.amazon.com/Love-You-Forever-Robert-Munsch/dp/0920668372/ None None\n",
            "https://www.amazon.com/Caste-Origins-Discontents-Isabel-Wilkerson/dp/0593230256/ None None\n"
          ],
          "name": "stdout"
        }
      ]
    },
    {
      "cell_type": "code",
      "metadata": {
        "id": "5ZAMWbNlFyQT"
      },
      "source": [
        "df.to_csv(product_output, index=False)"
      ],
      "execution_count": null,
      "outputs": []
    },
    {
      "cell_type": "code",
      "metadata": {
        "id": "4jtfgeUYF0QS"
      },
      "source": [
        "products_df = pd.read_csv(product_output)"
      ],
      "execution_count": null,
      "outputs": []
    },
    {
      "cell_type": "code",
      "metadata": {
        "id": "m0xiZ8cAF10n"
      },
      "source": [
        "final_df = pd.concat([products_df, df_sub])\n",
        "final_df.to_csv(product_output, index=False)"
      ],
      "execution_count": null,
      "outputs": []
    },
    {
      "cell_type": "code",
      "metadata": {
        "colab": {
          "base_uri": "https://localhost:8080/",
          "height": 203
        },
        "id": "6lWK4ir-F3k3",
        "outputId": "6f8d0e7a-9c57-4419-d64d-363d58ecccc6"
      },
      "source": [
        "final_df.head()"
      ],
      "execution_count": null,
      "outputs": [
        {
          "output_type": "execute_result",
          "data": {
            "text/html": [
              "<div>\n",
              "<style scoped>\n",
              "    .dataframe tbody tr th:only-of-type {\n",
              "        vertical-align: middle;\n",
              "    }\n",
              "\n",
              "    .dataframe tbody tr th {\n",
              "        vertical-align: top;\n",
              "    }\n",
              "\n",
              "    .dataframe thead th {\n",
              "        text-align: right;\n",
              "    }\n",
              "</style>\n",
              "<table border=\"1\" class=\"dataframe\">\n",
              "  <thead>\n",
              "    <tr style=\"text-align: right;\">\n",
              "      <th></th>\n",
              "      <th>url</th>\n",
              "      <th>product_id</th>\n",
              "      <th>category</th>\n",
              "      <th>title</th>\n",
              "      <th>price</th>\n",
              "      <th>scraped</th>\n",
              "    </tr>\n",
              "  </thead>\n",
              "  <tbody>\n",
              "    <tr>\n",
              "      <th>0</th>\n",
              "      <td>https://www.amazon.com/Click-Play-Phthalate-Cr...</td>\n",
              "      <td>B00PYLU3GG</td>\n",
              "      <td>{'name': 'toys-and-games', 'url': 'https://www...</td>\n",
              "      <td>NaN</td>\n",
              "      <td>NaN</td>\n",
              "      <td>NaN</td>\n",
              "    </tr>\n",
              "    <tr>\n",
              "      <th>1</th>\n",
              "      <td>https://www.amazon.com/Cards-Against-Humanity-...</td>\n",
              "      <td>B004S8F7QM</td>\n",
              "      <td>{'name': 'toys-and-games', 'url': 'https://www...</td>\n",
              "      <td>NaN</td>\n",
              "      <td>NaN</td>\n",
              "      <td>NaN</td>\n",
              "    </tr>\n",
              "    <tr>\n",
              "      <th>2</th>\n",
              "      <td>https://www.amazon.com/Kids-Against-Maturity-O...</td>\n",
              "      <td>B076PRWVFG</td>\n",
              "      <td>{'name': 'toys-and-games', 'url': 'https://www...</td>\n",
              "      <td>NaN</td>\n",
              "      <td>NaN</td>\n",
              "      <td>NaN</td>\n",
              "    </tr>\n",
              "    <tr>\n",
              "      <th>3</th>\n",
              "      <td>https://www.amazon.com/Mattel-Games-Official-A...</td>\n",
              "      <td>B07P6MZPK3</td>\n",
              "      <td>{'name': 'toys-and-games', 'url': 'https://www...</td>\n",
              "      <td>NaN</td>\n",
              "      <td>NaN</td>\n",
              "      <td>NaN</td>\n",
              "    </tr>\n",
              "    <tr>\n",
              "      <th>4</th>\n",
              "      <td>https://www.amazon.com/Flybar-Jumper-Toddlers-...</td>\n",
              "      <td>B00WTDXSDM</td>\n",
              "      <td>{'name': 'toys-and-games', 'url': 'https://www...</td>\n",
              "      <td>NaN</td>\n",
              "      <td>NaN</td>\n",
              "      <td>NaN</td>\n",
              "    </tr>\n",
              "  </tbody>\n",
              "</table>\n",
              "</div>"
            ],
            "text/plain": [
              "                                                 url  product_id  ... price scraped\n",
              "0  https://www.amazon.com/Click-Play-Phthalate-Cr...  B00PYLU3GG  ...   NaN     NaN\n",
              "1  https://www.amazon.com/Cards-Against-Humanity-...  B004S8F7QM  ...   NaN     NaN\n",
              "2  https://www.amazon.com/Kids-Against-Maturity-O...  B076PRWVFG  ...   NaN     NaN\n",
              "3  https://www.amazon.com/Mattel-Games-Official-A...  B07P6MZPK3  ...   NaN     NaN\n",
              "4  https://www.amazon.com/Flybar-Jumper-Toddlers-...  B00WTDXSDM  ...   NaN     NaN\n",
              "\n",
              "[5 rows x 6 columns]"
            ]
          },
          "metadata": {
            "tags": []
          },
          "execution_count": 24
        }
      ]
    }
  ]
}